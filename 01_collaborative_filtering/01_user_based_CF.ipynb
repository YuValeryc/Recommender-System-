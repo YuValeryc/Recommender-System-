{
 "cells": [
  {
   "cell_type": "code",
   "execution_count": 2,
   "id": "69d967fd",
   "metadata": {},
   "outputs": [],
   "source": [
    "import pandas as pd\n",
    "import numpy as np\n",
    "from sklearn.metrics.pairwise import cosine_similarity\n",
    "from sklearn.metrics import mean_squared_error\n",
    "from scipy.stats import pearsonr"
   ]
  },
  {
   "cell_type": "code",
   "execution_count": 3,
   "id": "f1932caa",
   "metadata": {},
   "outputs": [
    {
     "name": "stdout",
     "output_type": "stream",
     "text": [
      "Dữ liệu gốc:\n",
      "   user_id  movie_id  rating  timestamp\n",
      "0      196       242       3  881250949\n",
      "1      186       302       3  891717742\n",
      "2       22       377       1  878887116\n",
      "3      244        51       2  880606923\n",
      "4      166       346       1  886397596\n",
      "\n",
      "Thông tin bộ dữ liệu:\n",
      "Số lượng người dùng: 943\n",
      "Số lượng phim: 1682\n",
      "Tổng số đánh giá: 100000\n"
     ]
    }
   ],
   "source": [
    "columns = ['user_id', 'movie_id', 'rating', 'timestamp']\n",
    "df = pd.read_csv('../data/ml-100k/u.data', sep='\\t', names=columns)\n",
    "print(\"Dữ liệu gốc:\")\n",
    "print(df.head())\n",
    "\n",
    "print(\"\\nThông tin bộ dữ liệu:\")\n",
    "n_users = df['user_id'].nunique()\n",
    "n_movies = df['movie_id'].nunique()\n",
    "print(f\"Số lượng người dùng: {n_users}\")\n",
    "print(f\"Số lượng phim: {n_movies}\") \n",
    "print(f\"Tổng số đánh giá: {len(df)}\")"
   ]
  },
  {
   "cell_type": "code",
   "execution_count": 4,
   "id": "b2b40aa4",
   "metadata": {},
   "outputs": [
    {
     "name": "stdout",
     "output_type": "stream",
     "text": [
      "\n",
      "Dữ liệu ví dụ:\n",
      "       Item1  Item2  Item3  Item4  Item5\n",
      "Alice    5.0    3.0    4.0    4.0    NaN\n",
      "User1    3.0    1.0    2.0    3.0    3.0\n",
      "User2    4.0    3.0    4.0    3.0    5.0\n",
      "User3    3.0    3.0    1.0    5.0    4.0\n",
      "User4    1.0    5.0    5.0    2.0    1.0\n"
     ]
    }
   ],
   "source": [
    "# Test với dữ liệu nhỏ\n",
    "data = {\n",
    "    'Alice': [5, 3, 4, 4, np.nan],\n",
    "    'User1': [3, 1, 2, 3, 3],\n",
    "    'User2': [4, 3, 4, 3, 5],\n",
    "    'User3': [3, 3, 1, 5, 4],\n",
    "    'User4': [1, 5, 5, 2, 1]\n",
    "}\n",
    "item_names = [f'Item{i + 1}' for i in range(len(data['Alice']))]\n",
    "example_df = pd.DataFrame(data, index=item_names).T\n",
    "print(\"\\nDữ liệu ví dụ:\")\n",
    "print(example_df)"
   ]
  },
  {
   "cell_type": "code",
   "execution_count": 6,
   "id": "66b2a50b",
   "metadata": {},
   "outputs": [
    {
     "name": "stdout",
     "output_type": "stream",
     "text": [
      "Đánh giá của Alice: Item1    5.0\n",
      "Item2    3.0\n",
      "Item3    4.0\n",
      "Item4    4.0\n",
      "Item5    NaN\n",
      "Name: Alice, dtype: float64\n",
      "Rating của User1: Item1    5.0\n",
      "Item2    3.0\n",
      "Item3    4.0\n",
      "Item4    4.0\n",
      "Item5    NaN\n",
      "Name: Alice, dtype: float64\n",
      "Rating của User2: Item1    3.0\n",
      "Item2    1.0\n",
      "Item3    2.0\n",
      "Item4    3.0\n",
      "Item5    3.0\n",
      "Name: User1, dtype: float64\n",
      "Rating của User1: Item1    5.0\n",
      "Item2    3.0\n",
      "Item3    4.0\n",
      "Item4    4.0\n",
      "Item5    NaN\n",
      "Name: Alice, dtype: float64\n",
      "Rating của User2: Item1    4.0\n",
      "Item2    3.0\n",
      "Item3    4.0\n",
      "Item4    3.0\n",
      "Item5    5.0\n",
      "Name: User2, dtype: float64\n",
      "Rating của User1: Item1    5.0\n",
      "Item2    3.0\n",
      "Item3    4.0\n",
      "Item4    4.0\n",
      "Item5    NaN\n",
      "Name: Alice, dtype: float64\n",
      "Rating của User2: Item1    3.0\n",
      "Item2    3.0\n",
      "Item3    1.0\n",
      "Item4    5.0\n",
      "Item5    4.0\n",
      "Name: User3, dtype: float64\n",
      "Rating của User1: Item1    5.0\n",
      "Item2    3.0\n",
      "Item3    4.0\n",
      "Item4    4.0\n",
      "Item5    NaN\n",
      "Name: Alice, dtype: float64\n",
      "Rating của User2: Item1    1.0\n",
      "Item2    5.0\n",
      "Item3    5.0\n",
      "Item4    2.0\n",
      "Item5    1.0\n",
      "Name: User4, dtype: float64\n",
      "Độ tương đồng của các user với Alice:\n",
      "{'User1': np.float64(0.8528028654224415), 'User2': np.float64(0.7071067811865475), 'User3': np.float64(0.0), 'User4': np.float64(-0.7921180343813393)}\n",
      "User: User1, Similarity: 0.8528\n",
      "User: User2, Similarity: 0.7071\n",
      "User: User3, Similarity: 0.0000\n",
      "User: User4, Similarity: -0.7921\n"
     ]
    }
   ],
   "source": [
    "# Sử dụng pearsonr để tính tương quan giữa các cặp người dùng\n",
    "def pearson_similarity(user1_ratings, user2_ratings):\n",
    "  print(\"Rating của User1:\", user1_ratings)\n",
    "  print(\"Rating của User2:\", user2_ratings)\n",
    "  common_items_mask = user1_ratings.notna() & user2_ratings.notna()\n",
    "  \n",
    "  # Kiểm tra nếu có ít nhất một mục chung\n",
    "  if common_items_mask.sum() == 0:\n",
    "    return 0\n",
    "  \n",
    "  # Lấy các đánh giá chung\n",
    "  common_ratings1 = user1_ratings[common_items_mask]\n",
    "  common_ratings2 = user2_ratings[common_items_mask]\n",
    "  \n",
    "  # Pearson cần ít nhất 2 điểm dữ liệu\n",
    "  if len(common_ratings1) < 2:\n",
    "    return 0\n",
    "  \n",
    "  corr, _ = pearsonr(common_ratings1, common_ratings2)\n",
    "  return corr\n",
    "\n",
    "similarities = {}\n",
    "alice_ratings = example_df.loc['Alice']\n",
    "print(\"Đánh giá của Alice:\", alice_ratings)\n",
    "for user in example_df.index:\n",
    "  if user != 'Alice':\n",
    "    user_ratings = example_df.loc[user]\n",
    "    similarity = pearson_similarity(alice_ratings, user_ratings)\n",
    "    similarities[user] = similarity\n",
    "print(\"Độ tương đồng của các user với Alice:\")\n",
    "print(similarities)\n",
    "sorted_similarities = sorted(similarities.items(), key=lambda x : x[1], reverse=True)\n",
    "\n",
    "for user, sim in sorted_similarities:\n",
    "  print(f\"User: {user}, Similarity: {sim:.4f}\")"
   ]
  },
  {
   "cell_type": "code",
   "execution_count": 8,
   "id": "18308682",
   "metadata": {},
   "outputs": [
    {
     "name": "stdout",
     "output_type": "stream",
     "text": [
      "\n",
      "Top 2 người dùng tương tự nhất với Alice:\n",
      "User: User1, Similarity: 0.8528\n",
      "User: User2, Similarity: 0.7071\n"
     ]
    }
   ],
   "source": [
    "K = 2 # Số lượng người dùng tương tự nhất\n",
    "target_item = 'Item5'\n",
    "\n",
    "# Lấy K người dùng tương tự nhất\n",
    "neighbors = {user: sim for user, sim in sorted_similarities[:K] if sim > 0}\n",
    "\n",
    "top_k_neighbors = sorted(neighbors.items(), key=lambda item: item[1], reverse=True)[:K]\n",
    "print(f\"\\nTop {K} người dùng tương tự nhất với Alice:\")\n",
    "for user, sim in top_k_neighbors:\n",
    "    print(f\"User: {user}, Similarity: {sim:.4f}\")\n"
   ]
  },
  {
   "cell_type": "code",
   "execution_count": 9,
   "id": "6bd57ed2",
   "metadata": {},
   "outputs": [
    {
     "name": "stdout",
     "output_type": "stream",
     "text": [
      "Rating dự đoán của Alice cho Item5 là: 3.9066\n"
     ]
    }
   ],
   "source": [
    "numerator = 0\n",
    "denominator = 0\n",
    "\n",
    "for user, sim in top_k_neighbors:\n",
    "  neighbors_ratings = example_df.loc[user, target_item]\n",
    "  numerator += sim * neighbors_ratings\n",
    "  denominator += abs(sim)\n",
    "  \n",
    "predicted_rating = numerator / denominator if denominator != 0 else 0\n",
    "print(f\"Rating dự đoán của Alice cho {target_item} là: {predicted_rating:.4f}\")"
   ]
  },
  {
   "cell_type": "code",
   "execution_count": 11,
   "id": "84222015",
   "metadata": {},
   "outputs": [
    {
     "name": "stdout",
     "output_type": "stream",
     "text": [
      "\n",
      "Ma trận người dùng - mục:\n",
      "movie_id  1     2     3     4     5     6     7     8     9     10    ...  \\\n",
      "user_id                                                               ...   \n",
      "1          5.0   3.0   4.0   3.0   3.0   5.0   4.0   1.0   5.0   3.0  ...   \n",
      "2          4.0   NaN   NaN   NaN   NaN   NaN   NaN   NaN   NaN   2.0  ...   \n",
      "3          NaN   NaN   NaN   NaN   NaN   NaN   NaN   NaN   NaN   NaN  ...   \n",
      "4          NaN   NaN   NaN   NaN   NaN   NaN   NaN   NaN   NaN   NaN  ...   \n",
      "5          4.0   3.0   NaN   NaN   NaN   NaN   NaN   NaN   NaN   NaN  ...   \n",
      "\n",
      "movie_id  1673  1674  1675  1676  1677  1678  1679  1680  1681  1682  \n",
      "user_id                                                               \n",
      "1          NaN   NaN   NaN   NaN   NaN   NaN   NaN   NaN   NaN   NaN  \n",
      "2          NaN   NaN   NaN   NaN   NaN   NaN   NaN   NaN   NaN   NaN  \n",
      "3          NaN   NaN   NaN   NaN   NaN   NaN   NaN   NaN   NaN   NaN  \n",
      "4          NaN   NaN   NaN   NaN   NaN   NaN   NaN   NaN   NaN   NaN  \n",
      "5          NaN   NaN   NaN   NaN   NaN   NaN   NaN   NaN   NaN   NaN  \n",
      "\n",
      "[5 rows x 1682 columns]\n",
      "Kích thước ma trận: (943, 1682)\n"
     ]
    }
   ],
   "source": [
    "user_item_matrix = pd.pivot_table(df, index='user_id', columns='movie_id', values='rating')\n",
    "\n",
    "print(\"\\nMa trận người dùng - mục:\")\n",
    "print(user_item_matrix.head())\n",
    "print(\"Kích thước ma trận:\", user_item_matrix.shape)"
   ]
  },
  {
   "cell_type": "code",
   "execution_count": 12,
   "id": "fc41a9ca",
   "metadata": {},
   "outputs": [
    {
     "name": "stdout",
     "output_type": "stream",
     "text": [
      "\n",
      "Tỷ lệ thưa thớt của ma trận người dùng - mục: 0.9370\n"
     ]
    }
   ],
   "source": [
    "sparsity = float(user_item_matrix.isna().sum().sum()) / (user_item_matrix.shape[0] * user_item_matrix.shape[1])\n",
    "print(f\"\\nTỷ lệ thưa thớt của ma trận người dùng - mục: {sparsity:.4f}\")"
   ]
  },
  {
   "cell_type": "code",
   "execution_count": 15,
   "id": "153c450f",
   "metadata": {},
   "outputs": [
    {
     "name": "stdout",
     "output_type": "stream",
     "text": [
      "Ma trận tương đồng User-User (5x5):\n"
     ]
    },
    {
     "data": {
      "text/html": [
       "<div>\n",
       "<style scoped>\n",
       "    .dataframe tbody tr th:only-of-type {\n",
       "        vertical-align: middle;\n",
       "    }\n",
       "\n",
       "    .dataframe tbody tr th {\n",
       "        vertical-align: top;\n",
       "    }\n",
       "\n",
       "    .dataframe thead th {\n",
       "        text-align: right;\n",
       "    }\n",
       "</style>\n",
       "<table border=\"1\" class=\"dataframe\">\n",
       "  <thead>\n",
       "    <tr style=\"text-align: right;\">\n",
       "      <th>user_id</th>\n",
       "      <th>1</th>\n",
       "      <th>2</th>\n",
       "      <th>3</th>\n",
       "      <th>4</th>\n",
       "      <th>5</th>\n",
       "    </tr>\n",
       "    <tr>\n",
       "      <th>user_id</th>\n",
       "      <th></th>\n",
       "      <th></th>\n",
       "      <th></th>\n",
       "      <th></th>\n",
       "      <th></th>\n",
       "    </tr>\n",
       "  </thead>\n",
       "  <tbody>\n",
       "    <tr>\n",
       "      <th>1</th>\n",
       "      <td>1.000000</td>\n",
       "      <td>0.043411</td>\n",
       "      <td>0.011051</td>\n",
       "      <td>0.059303</td>\n",
       "      <td>0.134514</td>\n",
       "    </tr>\n",
       "    <tr>\n",
       "      <th>2</th>\n",
       "      <td>0.043411</td>\n",
       "      <td>1.000000</td>\n",
       "      <td>0.013658</td>\n",
       "      <td>-0.017016</td>\n",
       "      <td>0.035770</td>\n",
       "    </tr>\n",
       "    <tr>\n",
       "      <th>3</th>\n",
       "      <td>0.011051</td>\n",
       "      <td>0.013658</td>\n",
       "      <td>1.000000</td>\n",
       "      <td>-0.059638</td>\n",
       "      <td>0.016037</td>\n",
       "    </tr>\n",
       "    <tr>\n",
       "      <th>4</th>\n",
       "      <td>0.059303</td>\n",
       "      <td>-0.017016</td>\n",
       "      <td>-0.059638</td>\n",
       "      <td>1.000000</td>\n",
       "      <td>0.007373</td>\n",
       "    </tr>\n",
       "    <tr>\n",
       "      <th>5</th>\n",
       "      <td>0.134514</td>\n",
       "      <td>0.035770</td>\n",
       "      <td>0.016037</td>\n",
       "      <td>0.007373</td>\n",
       "      <td>1.000000</td>\n",
       "    </tr>\n",
       "  </tbody>\n",
       "</table>\n",
       "</div>"
      ],
      "text/plain": [
       "user_id         1         2         3         4         5\n",
       "user_id                                                  \n",
       "1        1.000000  0.043411  0.011051  0.059303  0.134514\n",
       "2        0.043411  1.000000  0.013658 -0.017016  0.035770\n",
       "3        0.011051  0.013658  1.000000 -0.059638  0.016037\n",
       "4        0.059303 -0.017016 -0.059638  1.000000  0.007373\n",
       "5        0.134514  0.035770  0.016037  0.007373  1.000000"
      ]
     },
     "metadata": {},
     "output_type": "display_data"
    }
   ],
   "source": [
    "user_item_matrix_mean_centered = user_item_matrix.apply(lambda row : row - row.mean(), axis=1)\n",
    "\n",
    "user_item_matrix_mean_centered.fillna(0, inplace=True)\n",
    "# print(\"\\nMa trận người dùng - mục đã trung bình hóa:\")\n",
    "# print(user_item_matrix_mean_centered.head())\n",
    "# print(\"Kích thước ma trận:\", user_item_matrix_mean_centered.shape)\n",
    "\n",
    "user_similarity_matrix = pd.DataFrame(cosine_similarity(user_item_matrix_mean_centered), \n",
    "                                      index=user_item_matrix.index,\n",
    "                                      columns=user_item_matrix.index)\n",
    "print(\"Ma trận tương đồng User-User (5x5):\")\n",
    "display(user_similarity_matrix.iloc[:5, :5])"
   ]
  },
  {
   "cell_type": "code",
   "execution_count": 17,
   "id": "82baa75d",
   "metadata": {},
   "outputs": [
    {
     "name": "stdout",
     "output_type": "stream",
     "text": [
      "\n",
      "Rating thực tế của User 1 cho Item 50: 5.0\n",
      "Rating dự đoán của User 1 cho Item 50: 5.0000\n"
     ]
    }
   ],
   "source": [
    "def predict_user_based(user_id, item_id, user_item_matrix, similarity_matrix, k=5):\n",
    "  user_sims = similarity_matrix.loc[user_id].drop(user_id)\n",
    "  \n",
    "  item_ratings = user_item_matrix[item_id]\n",
    "  \n",
    "  valid_neighbors_mask = (item_ratings.notna()) & (user_sims > 0)\n",
    "  \n",
    "  if not valid_neighbors_mask.any():\n",
    "    user_mean = user_item_matrix.loc[user_id].mean()\n",
    "    return user_mean if not np.isnan(user_mean) else 0\n",
    "  \n",
    "  neighbor_sims = user_sims[valid_neighbors_mask]\n",
    "  neighbor_ratings = item_ratings[valid_neighbors_mask]\n",
    "  \n",
    "  if len(neighbor_sims) > k:\n",
    "    top_k_indices = neighbor_sims.nlargest(k).index\n",
    "    neighbor_sims = neighbor_sims[top_k_indices]\n",
    "    neighbor_ratings = neighbor_ratings[top_k_indices]\n",
    "  numerator = (neighbor_sims * neighbor_ratings).sum()\n",
    "  denominator = neighbor_sims.sum()\n",
    "  \n",
    "  if denominator == 0:\n",
    "    user_mean = user_item_matrix.loc[user_id].mean()\n",
    "    return user_mean if not np.isnan(user_mean) else 0\n",
    "  return numerator / denominator \n",
    "\n",
    "predicted = predict_user_based(1, 50, user_item_matrix, user_similarity_matrix, k=5)\n",
    "\n",
    "actual = user_item_matrix.loc[1, 50]\n",
    "print(f\"\\nRating thực tế của User 1 cho Item 50: {actual}\")\n",
    "print(f\"Rating dự đoán của User 1 cho Item 50: {predicted:.4f}\")"
   ]
  },
  {
   "cell_type": "code",
   "execution_count": 19,
   "id": "72895c4b",
   "metadata": {},
   "outputs": [
    {
     "name": "stdout",
     "output_type": "stream",
     "text": [
      "RMSE trên tập test: 1.0018\n"
     ]
    }
   ],
   "source": [
    "from sklearn.model_selection import train_test_split\n",
    "\n",
    "train_df, test_df = train_test_split(df, test_size=0.2, random_state=42)\n",
    "train_user_item_matrix = pd.pivot_table(train_df, index='user_id', columns='movie_id', values='rating')\n",
    "train_mean_centered = train_user_item_matrix.apply(lambda row: row - row.mean(), axis=1).fillna(0)\n",
    "\n",
    "train_user_similarity_matrix = pd.DataFrame(cosine_similarity(train_mean_centered),\n",
    "                                            index=train_mean_centered.index,\n",
    "                                            columns=train_mean_centered.index)\n",
    "\n",
    "predictions = []\n",
    "true_ratings = []\n",
    "\n",
    "for _, row in test_df.iterrows():\n",
    "  user_id = row['user_id']\n",
    "  item_id = row['movie_id']\n",
    "  actual_rating = row['rating']\n",
    "  if user_id in train_user_similarity_matrix.index and item_id in train_user_item_matrix.columns:\n",
    "        pred = predict_user_based(user_id, item_id, train_user_item_matrix, train_user_similarity_matrix, k=25)\n",
    "        predictions.append(pred)\n",
    "        true_ratings.append(actual_rating)\n",
    "\n",
    "# Tính toán RMSE\n",
    "rmse = np.sqrt(mean_squared_error(true_ratings, predictions))\n",
    "print(f\"RMSE trên tập test: {rmse:.4f}\")"
   ]
  }
 ],
 "metadata": {
  "kernelspec": {
   "display_name": "venv",
   "language": "python",
   "name": "python3"
  },
  "language_info": {
   "codemirror_mode": {
    "name": "ipython",
    "version": 3
   },
   "file_extension": ".py",
   "mimetype": "text/x-python",
   "name": "python",
   "nbconvert_exporter": "python",
   "pygments_lexer": "ipython3",
   "version": "3.12.10"
  }
 },
 "nbformat": 4,
 "nbformat_minor": 5
}
